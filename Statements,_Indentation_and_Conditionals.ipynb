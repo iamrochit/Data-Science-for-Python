{
  "nbformat": 4,
  "nbformat_minor": 0,
  "metadata": {
    "kernelspec": {
      "display_name": "Python 3",
      "language": "python",
      "name": "python3"
    },
    "language_info": {
      "codemirror_mode": {
        "name": "ipython",
        "version": 3
      },
      "file_extension": ".py",
      "mimetype": "text/x-python",
      "name": "python",
      "nbconvert_exporter": "python",
      "pygments_lexer": "ipython3",
      "version": "3.7.4"
    },
    "colab": {
      "name": "Statements, Indentation and Conditionals.ipynb",
      "provenance": [],
      "collapsed_sections": [],
      "toc_visible": true,
      "include_colab_link": true
    }
  },
  "cells": [
    {
      "cell_type": "markdown",
      "metadata": {
        "id": "view-in-github",
        "colab_type": "text"
      },
      "source": [
        "<a href=\"https://colab.research.google.com/github/iamrochit/Data-Science-for-Python/blob/main/Statements%2C_Indentation_and_Conditionals.ipynb\" target=\"_parent\"><img src=\"https://colab.research.google.com/assets/colab-badge.svg\" alt=\"Open In Colab\"/></a>"
      ]
    },
    {
      "cell_type": "markdown",
      "metadata": {
        "id": "uCEngv6FHnnb"
      },
      "source": [
        "# <u>Statements</u>"
      ]
    },
    {
      "cell_type": "markdown",
      "metadata": {
        "id": "6KySHsyNHnne"
      },
      "source": [
        "Statements are instructions written in source code for execution. In the Python programming language, there are several sorts of statements such as assignment statements, conditional statements, looping statements, and so on. These all help the user to get the required output. For example, <code>x = 50</code> is an assignment statement and <code>import pandas as pd</code> is an import statement.\n",
        "\n",
        "> **<code>in simple words, we can say anything written in Python is a statement.</code>**\n",
        "\n",
        "Python statement ends with the token NEWLINE character. It means each line in a Python script is a statement.\n",
        "\n"
      ]
    },
    {
      "cell_type": "code",
      "metadata": {
        "id": "WT3EsLAIYUPx"
      },
      "source": [
        "# For example, below are assignment statements. \n",
        "\n",
        "x = 3\n",
        "a = 'Mighty'\n",
        "\n",
        "# Here \"x\" & \"a\" are variables and 3 and Mighty are values. "
      ],
      "execution_count": 1,
      "outputs": []
    },
    {
      "cell_type": "code",
      "metadata": {
        "id": "ZN-GxWfKHnng",
        "colab": {
          "base_uri": "https://localhost:8080/"
        },
        "outputId": "820af496-41c5-4181-c232-3048f5be20eb"
      },
      "source": [
        "# Print statement\n",
        "print(1 + 1)\n",
        "print(len(\"Hello AlmaBetter Team!\"))"
      ],
      "execution_count": 2,
      "outputs": [
        {
          "output_type": "stream",
          "name": "stdout",
          "text": [
            "2\n",
            "22\n"
          ]
        }
      ]
    },
    {
      "cell_type": "markdown",
      "metadata": {
        "id": "sHO6fat6Hnns"
      },
      "source": [
        "* In above example <code>len()</code> is a built-in Python function that returns the number of characters in a string.\n",
        "\n"
      ]
    },
    {
      "cell_type": "code",
      "metadata": {
        "id": "0QCxgyEbHnnu"
      },
      "source": [
        "x = 20"
      ],
      "execution_count": 3,
      "outputs": []
    },
    {
      "cell_type": "markdown",
      "metadata": {
        "id": "VC98TpZyHnn0"
      },
      "source": [
        "* Note that when we enter the assignment statement, <code>y = 3.14 </code>, only the prompt is returned. There is no value. This is due to the fact that statements, such as the assignment statement, do not return a value. They are simply executed."
      ]
    },
    {
      "cell_type": "code",
      "metadata": {
        "id": "QvpFXqHvHnn1",
        "colab": {
          "base_uri": "https://localhost:8080/"
        },
        "outputId": "ba253ab9-2d7e-422b-bd7f-90dc6524136f"
      },
      "source": [
        "print(x)"
      ],
      "execution_count": 4,
      "outputs": [
        {
          "output_type": "stream",
          "name": "stdout",
          "text": [
            "20\n"
          ]
        }
      ]
    },
    {
      "cell_type": "code",
      "source": [
        "y = \"Thank you Pradeep\"\n",
        "\n",
        "print(y)"
      ],
      "metadata": {
        "colab": {
          "base_uri": "https://localhost:8080/"
        },
        "id": "6UlWMAi4lPhl",
        "outputId": "375eaa55-c8a7-4168-cea7-64b34c12c793"
      },
      "execution_count": 5,
      "outputs": [
        {
          "output_type": "stream",
          "name": "stdout",
          "text": [
            "Thank you Pradeep\n"
          ]
        }
      ]
    },
    {
      "cell_type": "markdown",
      "metadata": {
        "id": "w945dRqiHnn9"
      },
      "source": [
        "On the other hand, the result of executing the assignment statement is the creation of a reference from a variable, y, to a value, 3.14. When we execute the <code>print()</code> function working on y, we see the value that y is referring to. In fact, evaluating y by itself results in the same response."
      ]
    },
    {
      "cell_type": "code",
      "source": [
        "x = 20\n",
        "y = \"Thank you Pradeep\"\n",
        "x == y"
      ],
      "metadata": {
        "colab": {
          "base_uri": "https://localhost:8080/"
        },
        "id": "Wo89UJcolpwq",
        "outputId": "b7a44bbf-435a-40cc-d218-11899cbac90b"
      },
      "execution_count": 6,
      "outputs": [
        {
          "output_type": "execute_result",
          "data": {
            "text/plain": [
              "False"
            ]
          },
          "metadata": {},
          "execution_count": 6
        }
      ]
    },
    {
      "cell_type": "code",
      "source": [
        "# S1 -> assignment\n",
        "x = 20;\n",
        "# S2 -> assignment\n",
        "y = 40/2;\n",
        "# S3 ->conditional\n",
        "x == y"
      ],
      "metadata": {
        "colab": {
          "base_uri": "https://localhost:8080/"
        },
        "id": "DCrTIuR-lzLQ",
        "outputId": "30b25fc7-f9a8-4d6d-b939-a939f37b1eb5"
      },
      "execution_count": 7,
      "outputs": [
        {
          "output_type": "execute_result",
          "data": {
            "text/plain": [
              "True"
            ]
          },
          "metadata": {},
          "execution_count": 7
        }
      ]
    },
    {
      "cell_type": "code",
      "metadata": {
        "id": "n1rgy43RZ70I",
        "colab": {
          "base_uri": "https://localhost:8080/"
        },
        "outputId": "a250948c-cbaf-4a5b-81bd-4baa8f77d62b"
      },
      "source": [
        "# Conditional Statetment\n",
        "a == True"
      ],
      "execution_count": 8,
      "outputs": [
        {
          "output_type": "execute_result",
          "data": {
            "text/plain": [
              "False"
            ]
          },
          "metadata": {},
          "execution_count": 8
        }
      ]
    },
    {
      "cell_type": "code",
      "metadata": {
        "id": "k8mZhU9naj6b"
      },
      "source": [
        "# Import statement\n",
        "import pandas as pd"
      ],
      "execution_count": 9,
      "outputs": []
    },
    {
      "cell_type": "markdown",
      "source": [
        "# <u> Type of Statements</u>\n",
        "\n",
        "Below are the most common statements*.\n",
        "\n",
        "*   Print statements\n",
        "*   Assignment statements\n",
        "*   Conditional statements\n",
        "*   Looping statements\n",
        "\n",
        "Print and assignment statements are often used. A value is the outcome of a print statement. Assignment statements do not yield a result; instead, they simply assign a value to the operand on their left side.\n",
        "\n",
        "A Python script is typically composed of a series of statements. When all statements run, the result displays just once if there are multiple statements."
      ],
      "metadata": {
        "id": "FhtQ1x9W0SAI"
      }
    },
    {
      "cell_type": "code",
      "source": [
        "# statement 1\n",
        "x = \"Almabetter\"\n",
        "\n",
        "# statement 2\n",
        "y = \"Let's learn Data Science\"\n",
        "\n",
        "# statement 3\n",
        "print(\"Hello I am \", x, \"!\")\n",
        "\n",
        "# statement 4\n",
        "print(y)"
      ],
      "metadata": {
        "colab": {
          "base_uri": "https://localhost:8080/"
        },
        "id": "toB6lXYo10Mw",
        "outputId": "2f8cb354-7a29-420b-edae-f991ed8600b1"
      },
      "execution_count": 10,
      "outputs": [
        {
          "output_type": "stream",
          "name": "stdout",
          "text": [
            "Hello I am  Almabetter !\n",
            "Let's learn Data Science\n"
          ]
        }
      ]
    },
    {
      "cell_type": "markdown",
      "source": [
        "we use the hash (#) symbol to start writing a comment. In Python, comments describe what code is doing so other people can understand it."
      ],
      "metadata": {
        "id": "yOaeI_nz2ZHc"
      }
    },
    {
      "cell_type": "markdown",
      "source": [
        "# <u> Expression Statements</u>"
      ],
      "metadata": {
        "id": "u0IyVCI1eCyi"
      }
    },
    {
      "cell_type": "markdown",
      "source": [
        "To compute and write a value, expression statements are utilised. An expression statement evaluates the expression list and computes the result.\n",
        "\n",
        "An expression is a combination of values, variables, and operators. A single value all by itself is considered an expression."
      ],
      "metadata": {
        "id": "2Ra76K9ueH1T"
      }
    },
    {
      "cell_type": "code",
      "source": [
        "x = 1"
      ],
      "metadata": {
        "id": "Gg9AhGBGoZ3I"
      },
      "execution_count": 11,
      "outputs": []
    },
    {
      "cell_type": "code",
      "source": [
        "20\n",
        "\n",
        "x\n",
        "\n",
        "y = x + 20"
      ],
      "metadata": {
        "id": "lbnfUiFUeYQK"
      },
      "execution_count": 12,
      "outputs": []
    },
    {
      "cell_type": "markdown",
      "metadata": {
        "id": "LfTpVhrcHnn-"
      },
      "source": [
        "# <u> Multi-line Statements</u>"
      ]
    },
    {
      "cell_type": "markdown",
      "metadata": {
        "id": "8WI-7DFHHnn-"
      },
      "source": [
        "In Python, the end of a statement is marked by a newline character. But we can make a statement extend over multiple lines with the line continuation character ( \\ )."
      ]
    },
    {
      "cell_type": "code",
      "metadata": {
        "id": "JgAslWA9b2Md",
        "colab": {
          "base_uri": "https://localhost:8080/"
        },
        "outputId": "b6242b2a-ae13-4cdd-b7d8-5db08037c8a8"
      },
      "source": [
        "# S1\n",
        "z = 3 + 4\n",
        "\n",
        "# S2\n",
        "y = 2\n",
        "+ 5"
      ],
      "execution_count": 13,
      "outputs": [
        {
          "output_type": "execute_result",
          "data": {
            "text/plain": [
              "5"
            ]
          },
          "metadata": {},
          "execution_count": 13
        }
      ]
    },
    {
      "cell_type": "code",
      "source": [
        "y = 2 + 5"
      ],
      "metadata": {
        "id": "H2SHROFrsEtZ"
      },
      "execution_count": 14,
      "outputs": []
    },
    {
      "cell_type": "code",
      "source": [
        "y = 2 + \\\n",
        "    5\n",
        "y"
      ],
      "metadata": {
        "colab": {
          "base_uri": "https://localhost:8080/"
        },
        "id": "p_BGWu-4sIkF",
        "outputId": "32da39d6-80c8-4f86-a955-5d4ce8cd6384"
      },
      "execution_count": 15,
      "outputs": [
        {
          "output_type": "execute_result",
          "data": {
            "text/plain": [
              "7"
            ]
          },
          "metadata": {},
          "execution_count": 15
        }
      ]
    },
    {
      "cell_type": "code",
      "source": [
        "# print y\n",
        "print(y)"
      ],
      "metadata": {
        "colab": {
          "base_uri": "https://localhost:8080/"
        },
        "id": "2zI_KhJpYvGs",
        "outputId": "8ebfdcba-ef43-440f-bcc6-48e490c68390"
      },
      "execution_count": 16,
      "outputs": [
        {
          "output_type": "stream",
          "name": "stdout",
          "text": [
            "7\n"
          ]
        }
      ]
    },
    {
      "cell_type": "code",
      "metadata": {
        "id": "uKiA4sBFHnoC"
      },
      "source": [
        "#line continuation character\n",
        "y = 2 + \\\n",
        "    5"
      ],
      "execution_count": 17,
      "outputs": []
    },
    {
      "cell_type": "code",
      "source": [
        "# print y\n",
        "print(y)"
      ],
      "metadata": {
        "colab": {
          "base_uri": "https://localhost:8080/"
        },
        "id": "vYzpR8CoYvfj",
        "outputId": "7c726fb3-9703-4c93-d34c-2d1ad5fb3c74"
      },
      "execution_count": 18,
      "outputs": [
        {
          "output_type": "stream",
          "name": "stdout",
          "text": [
            "7\n"
          ]
        }
      ]
    },
    {
      "cell_type": "markdown",
      "source": [
        "This is an **explicit line continuation.**"
      ],
      "metadata": {
        "id": "hszw4WBBZWDq"
      }
    },
    {
      "cell_type": "code",
      "source": [
        "y_explicit = 10 + 20 + \\\n",
        "           30 + 40 + \\\n",
        "           50 + 60 + 70\n",
        "\n",
        "y_explicit"
      ],
      "metadata": {
        "colab": {
          "base_uri": "https://localhost:8080/"
        },
        "id": "VpHRPwK0ZTgl",
        "outputId": "69d53d82-590c-4341-ee42-7398787e01b4"
      },
      "execution_count": 19,
      "outputs": [
        {
          "output_type": "execute_result",
          "data": {
            "text/plain": [
              "280"
            ]
          },
          "metadata": {},
          "execution_count": 19
        }
      ]
    },
    {
      "cell_type": "markdown",
      "metadata": {
        "id": "ZT6MwgGsHnoF"
      },
      "source": [
        "\n",
        "\n",
        "We can use parentheses () to write a multi-line statement. We can add a line continuation statement inside it. Whatever we add inside a parentheses () will treat as a single statement even it is placed on multiple lines. This is known as **implicit line continuation.**"
      ]
    },
    {
      "cell_type": "code",
      "metadata": {
        "id": "V6l3evBTdpGg",
        "colab": {
          "base_uri": "https://localhost:8080/"
        },
        "outputId": "3dfae6da-bd36-41d0-b244-dea96cda3bdf"
      },
      "source": [
        "y_implicit = (10 + 20 +\n",
        "             30 + 40 +\n",
        "             50 + 60 + 70\n",
        "            )\n",
        "\n",
        "y_implicit"
      ],
      "execution_count": 20,
      "outputs": [
        {
          "output_type": "execute_result",
          "data": {
            "text/plain": [
              "280"
            ]
          },
          "metadata": {},
          "execution_count": 20
        }
      ]
    },
    {
      "cell_type": "markdown",
      "metadata": {
        "id": "PNsXf6IfHnoI"
      },
      "source": [
        "As you see, we have removed the the line continuation character (\\) if we are using the parentheses ().\n",
        "\n",
        "To make a list, we may use square brackets [ ]. Then, if necessary, we may position each list item on a separate line for easier reading.\n",
        "\n",
        "Similarly to square brackets, we can use curly brackets to build a dictionary with each key-value pair on a separate line for easier reading."
      ]
    },
    {
      "cell_type": "code",
      "source": [
        "my_list = [2, 4, 6, 8, 10]\n",
        "my_list"
      ],
      "metadata": {
        "colab": {
          "base_uri": "https://localhost:8080/"
        },
        "id": "mLHUa7Aqp-n6",
        "outputId": "ecb008ef-9273-4e51-d0ab-072f36a8a745"
      },
      "execution_count": 21,
      "outputs": [
        {
          "output_type": "execute_result",
          "data": {
            "text/plain": [
              "[2, 4, 6, 8, 10]"
            ]
          },
          "metadata": {},
          "execution_count": 21
        }
      ]
    },
    {
      "cell_type": "code",
      "metadata": {
        "id": "V4vEIYUde5Qv"
      },
      "source": [
        "colors = 'Set theory is the mathematical theory of well-determined collections, called sets, of objects that are called members, or elements, of the set. Pure set theory deals exclusively with sets, so the only sets under consideration are those whose members are also sets. The theory of the hereditarily-finite sets, namely those finite sets whose elements are also finite sets, the elements of which are also finite, and so on, is formally equivalent to arithmetic. So, the essence of set theory is the study of infinite sets, and therefore it can be defined as the mathematical theory of the actual—as opposed to potential—infinite.'"
      ],
      "execution_count": 22,
      "outputs": []
    },
    {
      "cell_type": "code",
      "source": [
        "colors"
      ],
      "metadata": {
        "colab": {
          "base_uri": "https://localhost:8080/",
          "height": 87
        },
        "id": "Sh0awVrkaMKC",
        "outputId": "6d19cef9-8bd0-472f-96a5-b6e5344137f7"
      },
      "execution_count": 23,
      "outputs": [
        {
          "output_type": "execute_result",
          "data": {
            "application/vnd.google.colaboratory.intrinsic+json": {
              "type": "string"
            },
            "text/plain": [
              "'Set theory is the mathematical theory of well-determined collections, called sets, of objects that are called members, or elements, of the set. Pure set theory deals exclusively with sets, so the only sets under consideration are those whose members are also sets. The theory of the hereditarily-finite sets, namely those finite sets whose elements are also finite sets, the elements of which are also finite, and so on, is formally equivalent to arithmetic. So, the essence of set theory is the study of infinite sets, and therefore it can be defined as the mathematical theory of the actual—as opposed to potential—infinite.'"
            ]
          },
          "metadata": {},
          "execution_count": 23
        }
      ]
    },
    {
      "cell_type": "code",
      "metadata": {
        "id": "acavVLtgHnoI"
      },
      "source": [
        "colors = 'Set theory is the mathematical theory of well-determined collections, called sets, \\\n",
        "of objects that are called members, or elements, of the set. Pure set theory deals exclusively \\\n",
        "with sets, so the only sets under consideration are those whose members are also sets.\\\n",
        "The theory of the hereditarily-finite sets, namely those finite sets whose elements are also finite sets,\\\n",
        "the elements of which are also finite, and so on, is formally equivalent to arithmetic. \\\n",
        "So, the essence of set theory is the study of infinite sets, and \\\n",
        "therefore it can be defined as the mathematical theory of the actual—as opposed to potential—infinite.'"
      ],
      "execution_count": 24,
      "outputs": []
    },
    {
      "cell_type": "code",
      "source": [
        "colors"
      ],
      "metadata": {
        "colab": {
          "base_uri": "https://localhost:8080/",
          "height": 87
        },
        "id": "Ll2EO8braMiZ",
        "outputId": "b27abda9-842d-432b-cb65-11c16b8c86a6"
      },
      "execution_count": 25,
      "outputs": [
        {
          "output_type": "execute_result",
          "data": {
            "application/vnd.google.colaboratory.intrinsic+json": {
              "type": "string"
            },
            "text/plain": [
              "'Set theory is the mathematical theory of well-determined collections, called sets, of objects that are called members, or elements, of the set. Pure set theory deals exclusively with sets, so the only sets under consideration are those whose members are also sets.The theory of the hereditarily-finite sets, namely those finite sets whose elements are also finite sets,the elements of which are also finite, and so on, is formally equivalent to arithmetic. So, the essence of set theory is the study of infinite sets, and therefore it can be defined as the mathematical theory of the actual—as opposed to potential—infinite.'"
            ]
          },
          "metadata": {},
          "execution_count": 25
        }
      ]
    },
    {
      "cell_type": "markdown",
      "metadata": {
        "id": "B03yfZ97HnoK"
      },
      "source": [
        "* We can also put multiple statements in a single line using semicolons, as follows:"
      ]
    },
    {
      "cell_type": "code",
      "metadata": {
        "id": "OQDamWX8fYK4"
      },
      "source": [
        "a = 1 \n",
        "b = 2\n",
        "c = 3 "
      ],
      "execution_count": 26,
      "outputs": []
    },
    {
      "cell_type": "code",
      "metadata": {
        "id": "Ai_uK72yHnoL"
      },
      "source": [
        "a = 11 ; b = 12 ; c = 13"
      ],
      "execution_count": 27,
      "outputs": []
    },
    {
      "cell_type": "code",
      "source": [
        "print(\"a:\", a, \"b:\", b, \"c:\", c)"
      ],
      "metadata": {
        "colab": {
          "base_uri": "https://localhost:8080/"
        },
        "id": "SuXsaAG8q7nI",
        "outputId": "d561c824-8c0a-4fe5-8a0c-45e5a87df327"
      },
      "execution_count": 28,
      "outputs": [
        {
          "output_type": "stream",
          "name": "stdout",
          "text": [
            "a: 11 b: 12 c: 13\n"
          ]
        }
      ]
    },
    {
      "cell_type": "code",
      "metadata": {
        "id": "Qi411Crhoy_X"
      },
      "source": [
        "a, b, c = [1, 'a', True], (45, 67), {'Name' : 'Vikash' , 'Age' : 27}"
      ],
      "execution_count": 29,
      "outputs": []
    },
    {
      "cell_type": "code",
      "metadata": {
        "id": "_MLqT90co1uM",
        "colab": {
          "base_uri": "https://localhost:8080/"
        },
        "outputId": "61eb7a0d-fb50-427d-d05b-92d48f53de55"
      },
      "source": [
        "a"
      ],
      "execution_count": 30,
      "outputs": [
        {
          "output_type": "execute_result",
          "data": {
            "text/plain": [
              "[1, 'a', True]"
            ]
          },
          "metadata": {},
          "execution_count": 30
        }
      ]
    },
    {
      "cell_type": "code",
      "metadata": {
        "id": "wFWj0Mo1o6e0",
        "colab": {
          "base_uri": "https://localhost:8080/"
        },
        "outputId": "e1fd5cbc-1663-4af9-8457-bed165a00220"
      },
      "source": [
        "b"
      ],
      "execution_count": 31,
      "outputs": [
        {
          "output_type": "execute_result",
          "data": {
            "text/plain": [
              "(45, 67)"
            ]
          },
          "metadata": {},
          "execution_count": 31
        }
      ]
    },
    {
      "cell_type": "code",
      "metadata": {
        "id": "cX-CIJFwo8ce",
        "colab": {
          "base_uri": "https://localhost:8080/"
        },
        "outputId": "471a17b9-3f9d-46e0-a3fe-543422f7780a"
      },
      "source": [
        "c"
      ],
      "execution_count": 32,
      "outputs": [
        {
          "output_type": "execute_result",
          "data": {
            "text/plain": [
              "{'Age': 27, 'Name': 'Vikash'}"
            ]
          },
          "metadata": {},
          "execution_count": 32
        }
      ]
    },
    {
      "cell_type": "code",
      "metadata": {
        "id": "yOwjB-YYhQfk"
      },
      "source": [
        "# Multiple assignment in a single statement\n",
        "x, y = b, a"
      ],
      "execution_count": 33,
      "outputs": []
    },
    {
      "cell_type": "code",
      "metadata": {
        "colab": {
          "base_uri": "https://localhost:8080/"
        },
        "id": "5F9bYYGDhS5J",
        "outputId": "76cf6202-77f9-4c43-e05c-5219023c6462"
      },
      "source": [
        "x"
      ],
      "execution_count": 34,
      "outputs": [
        {
          "output_type": "execute_result",
          "data": {
            "text/plain": [
              "(45, 67)"
            ]
          },
          "metadata": {},
          "execution_count": 34
        }
      ]
    },
    {
      "cell_type": "code",
      "source": [
        "x == b"
      ],
      "metadata": {
        "colab": {
          "base_uri": "https://localhost:8080/"
        },
        "id": "psKBCijZrhIp",
        "outputId": "5013ced5-b850-4c4d-ecee-529e4f4ffcd7"
      },
      "execution_count": 35,
      "outputs": [
        {
          "output_type": "execute_result",
          "data": {
            "text/plain": [
              "True"
            ]
          },
          "metadata": {},
          "execution_count": 35
        }
      ]
    },
    {
      "cell_type": "code",
      "metadata": {
        "colab": {
          "base_uri": "https://localhost:8080/"
        },
        "id": "5vod6tsShUvH",
        "outputId": "908a626b-00cf-4711-e8bc-b4a31f6c2d43"
      },
      "source": [
        "y"
      ],
      "execution_count": 36,
      "outputs": [
        {
          "output_type": "execute_result",
          "data": {
            "text/plain": [
              "[1, 'a', True]"
            ]
          },
          "metadata": {},
          "execution_count": 36
        }
      ]
    },
    {
      "cell_type": "code",
      "source": [
        "type(y), y==a"
      ],
      "metadata": {
        "colab": {
          "base_uri": "https://localhost:8080/"
        },
        "id": "WZsoulzzrnGx",
        "outputId": "6ade8379-4d0d-4e50-8bce-548c0e045196"
      },
      "execution_count": 37,
      "outputs": [
        {
          "output_type": "execute_result",
          "data": {
            "text/plain": [
              "(list, True)"
            ]
          },
          "metadata": {},
          "execution_count": 37
        }
      ]
    },
    {
      "cell_type": "markdown",
      "source": [
        "### Worked out example"
      ],
      "metadata": {
        "id": "FW_DFd5Xa7db"
      }
    },
    {
      "cell_type": "code",
      "source": [
        "# Declared using Continuation Character (\\):\n",
        "s = 1 + 2 + 3 + \\\n",
        "    4 + 5 + 6 + \\\n",
        "    7 + 8 + 9\n",
        "\n",
        "# Declared using parentheses () :\n",
        "n = (1 * 2 * 3 + 7 + 8 + 9)\n",
        "\n",
        "# Declared using square brackets [] :\n",
        "footballer = ['MESSI',\n",
        "          'NEYMAR',\n",
        "          'SUAREZ']\n",
        "\n",
        "# Declared using braces {} :\n",
        "x = {1 + 2 + 3 + 4 + 5 + 6 +\n",
        "     7 + 8 + 9}\n",
        "\n",
        "# Declared using semicolons(;) :\n",
        "flag = 2; ropes = 3; pole = 4"
      ],
      "metadata": {
        "id": "FonmHP_panqQ"
      },
      "execution_count": 38,
      "outputs": []
    },
    {
      "cell_type": "markdown",
      "metadata": {
        "id": "khxoqawIHnoN"
      },
      "source": [
        "# <u>Python Comments</u>"
      ]
    },
    {
      "cell_type": "markdown",
      "metadata": {
        "id": "7he_1JNlHnoN"
      },
      "source": [
        "* Comments are very important while writing a program. They describe what is going on inside a program, so that a person looking at the source code does not have a hard time figuring it out.\n",
        "\n",
        "\n",
        "* You might forget the key details of the program you just wrote in a month's time. So taking the time to explain these concepts in the form of comments is always fruitful.\n",
        "\n",
        "\n",
        "* In Python, we use the hash (#) symbol to start writing a comment.\n",
        "\n",
        "\n",
        "* It extends up to the newline character. Comments are for programmers to better understand a program. Python Interpreter ignores comments."
      ]
    },
    {
      "cell_type": "code",
      "metadata": {
        "id": "r5BzV1ITHnoN",
        "colab": {
          "base_uri": "https://localhost:8080/"
        },
        "outputId": "5d4261aa-a541-4f65-c147-79bda36dc50a"
      },
      "source": [
        "# This is a comment \n",
        "print('Hello')\n",
        "# Add 5 + 6\n",
        "print(5+6)"
      ],
      "execution_count": 39,
      "outputs": [
        {
          "output_type": "stream",
          "name": "stdout",
          "text": [
            "Hello\n",
            "11\n"
          ]
        }
      ]
    },
    {
      "cell_type": "markdown",
      "metadata": {
        "id": "rt8jeajiHnoQ"
      },
      "source": [
        "* We can have comments that extend up to multiple lines. One way is to use the hash(#) symbol at the beginning of each line. For example:"
      ]
    },
    {
      "cell_type": "code",
      "metadata": {
        "id": "ke5LH88CHnoQ"
      },
      "source": [
        "# This is a long comment and it extends to multiple lines\n",
        "\n",
        "# This is a long comment\n",
        "# and it extends\n",
        "# to multiple lines"
      ],
      "execution_count": 40,
      "outputs": []
    },
    {
      "cell_type": "markdown",
      "metadata": {
        "id": "dM5xcR6uHnoS"
      },
      "source": [
        "* Another way of doing this is to use triple quotes, either ''' or \"\"\".\n",
        "\n",
        "\n",
        "* These triple quotes are generally used for multi-line strings. But they can be used as a multi-line comment as well. Unless they are not docstrings, they do not generate any extra code."
      ]
    },
    {
      "cell_type": "code",
      "source": [
        "zz = '''\n",
        "you\n",
        "can\n",
        "write\n",
        "anything\n",
        "- single statement\n",
        "'''\n",
        "print(zz)"
      ],
      "metadata": {
        "colab": {
          "base_uri": "https://localhost:8080/"
        },
        "id": "t7PQ_0BOt_7a",
        "outputId": "9abce2b3-cd40-4bd0-e76e-46a08c598887"
      },
      "execution_count": 41,
      "outputs": [
        {
          "output_type": "stream",
          "name": "stdout",
          "text": [
            "\n",
            "you\n",
            "can\n",
            "write\n",
            "anything\n",
            "- single statement\n",
            "\n"
          ]
        }
      ]
    },
    {
      "cell_type": "code",
      "metadata": {
        "id": "o1Aw0HL7HnoT",
        "colab": {
          "base_uri": "https://localhost:8080/"
        },
        "outputId": "74b31277-f843-4be2-ab57-fae19fcc23bb"
      },
      "source": [
        "'''This is also a\n",
        "perfect example of\n",
        "ahjcdjh\n",
        "sdjbdkjas\n",
        "mnbscjsab\n",
        "bkjabfa\n",
        "multi-line comments'''\n",
        "\n",
        "a = 3\n",
        "print(a)"
      ],
      "execution_count": 42,
      "outputs": [
        {
          "output_type": "stream",
          "name": "stdout",
          "text": [
            "3\n"
          ]
        }
      ]
    },
    {
      "cell_type": "code",
      "source": [
        "x = \"\"\"Hello Rishi\"\"\"\n",
        "print(x)"
      ],
      "metadata": {
        "colab": {
          "base_uri": "https://localhost:8080/"
        },
        "id": "apEDlFRtvG74",
        "outputId": "75156b22-a12e-4648-fe59-f99c8edf9f78"
      },
      "execution_count": 43,
      "outputs": [
        {
          "output_type": "stream",
          "name": "stdout",
          "text": [
            "Hello Rishi\n"
          ]
        }
      ]
    },
    {
      "cell_type": "code",
      "source": [
        "x = \"\"\"Hello\n",
        "                Rishi\"\"\"\n",
        "print(x)"
      ],
      "metadata": {
        "colab": {
          "base_uri": "https://localhost:8080/"
        },
        "id": "hFZmWM_kvN88",
        "outputId": "d51723ad-afc6-4370-af1c-e6d11d159e82"
      },
      "execution_count": 44,
      "outputs": [
        {
          "output_type": "stream",
          "name": "stdout",
          "text": [
            "Hello\n",
            "                Rishi\n"
          ]
        }
      ]
    },
    {
      "cell_type": "markdown",
      "metadata": {
        "id": "XM2CjOCyHnoV"
      },
      "source": [
        "# <u>Indentation in Python </u>\n",
        "\n",
        "It is important to keep a good understanding of how indentation works in Python to maintain the structure and order of your code. We will touch on this topic again when we start building out functions!"
      ]
    },
    {
      "cell_type": "markdown",
      "metadata": {
        "id": "uhAgTP0tHnoW"
      },
      "source": [
        "* Let's create a simple statement that says: \"If a is greater than b, assign 2 to a and 4 to b\"\n",
        "\n",
        "\n",
        "* Take a look at how to write a simple if statement                 "
      ]
    },
    {
      "cell_type": "code",
      "metadata": {
        "id": "cubiTvRkHnoW"
      },
      "source": [
        "    a = 3\n",
        "    b = 4\n",
        "\n",
        "if b > a:\n",
        " a = 5\n",
        " b = 5\n",
        " z = a+b"
      ],
      "execution_count": 45,
      "outputs": []
    },
    {
      "cell_type": "code",
      "metadata": {
        "id": "x3pl15PBHnoZ",
        "colab": {
          "base_uri": "https://localhost:8080/"
        },
        "outputId": "8c4ec651-a678-4ad0-9963-dbb246900145"
      },
      "source": [
        "a, b, z"
      ],
      "execution_count": 46,
      "outputs": [
        {
          "output_type": "execute_result",
          "data": {
            "text/plain": [
              "(5, 5, 10)"
            ]
          },
          "metadata": {},
          "execution_count": 46
        }
      ]
    },
    {
      "cell_type": "code",
      "metadata": {
        "id": "fPEVAaRLHnoc",
        "colab": {
          "base_uri": "https://localhost:8080/"
        },
        "outputId": "3e6ed1e9-3e45-4f21-b5aa-f27db9132f56"
      },
      "source": [
        "z = a\n",
        "z"
      ],
      "execution_count": 47,
      "outputs": [
        {
          "output_type": "execute_result",
          "data": {
            "text/plain": [
              "5"
            ]
          },
          "metadata": {},
          "execution_count": 47
        }
      ]
    },
    {
      "cell_type": "code",
      "source": [
        "del(a)"
      ],
      "metadata": {
        "id": "o5zlhj8-yx35"
      },
      "execution_count": 48,
      "outputs": []
    },
    {
      "cell_type": "code",
      "source": [
        "z"
      ],
      "metadata": {
        "colab": {
          "base_uri": "https://localhost:8080/"
        },
        "id": "0YMUV-NOyzlJ",
        "outputId": "b2795e64-d399-4425-def1-111613fbf6f1"
      },
      "execution_count": 49,
      "outputs": [
        {
          "output_type": "execute_result",
          "data": {
            "text/plain": [
              "5"
            ]
          },
          "metadata": {},
          "execution_count": 49
        }
      ]
    },
    {
      "cell_type": "code",
      "metadata": {
        "id": "5dv6qNOXlL6X"
      },
      "source": [
        "var_sum =  5*5"
      ],
      "execution_count": 50,
      "outputs": []
    },
    {
      "cell_type": "code",
      "source": [
        "# Add 4 spaces/tab (an extra level of indentation) to distinguish arguments from the rest.\n",
        "def add(var_one, var_two):\n",
        "    global var_sum\n",
        "    var_sum = var_one + var_two\n",
        "    print(var_sum)\n",
        "    return var_sum"
      ],
      "metadata": {
        "id": "Gas0f56uze_l"
      },
      "execution_count": 51,
      "outputs": []
    },
    {
      "cell_type": "code",
      "source": [
        "var_sum"
      ],
      "metadata": {
        "colab": {
          "base_uri": "https://localhost:8080/"
        },
        "id": "Xd86d1jfzGsc",
        "outputId": "2bb7081a-d053-4759-8a16-a33ecaac1cc4"
      },
      "execution_count": 52,
      "outputs": [
        {
          "output_type": "execute_result",
          "data": {
            "text/plain": [
              "25"
            ]
          },
          "metadata": {},
          "execution_count": 52
        }
      ]
    },
    {
      "cell_type": "code",
      "source": [
        "z = add(12, 1)"
      ],
      "metadata": {
        "colab": {
          "base_uri": "https://localhost:8080/"
        },
        "id": "s3n8b_ZyzN3T",
        "outputId": "d9512e75-6d3e-4bdb-daf7-ef02727a04da"
      },
      "execution_count": 53,
      "outputs": [
        {
          "output_type": "stream",
          "name": "stdout",
          "text": [
            "13\n"
          ]
        }
      ]
    },
    {
      "cell_type": "code",
      "source": [
        "var_sum"
      ],
      "metadata": {
        "colab": {
          "base_uri": "https://localhost:8080/"
        },
        "id": "xtzG6uZ8zpci",
        "outputId": "707e0cea-9868-4931-9935-2415406629c1"
      },
      "execution_count": 54,
      "outputs": [
        {
          "output_type": "execute_result",
          "data": {
            "text/plain": [
              "13"
            ]
          },
          "metadata": {},
          "execution_count": 54
        }
      ]
    },
    {
      "cell_type": "markdown",
      "metadata": {
        "id": "7zf6T5CSHnog"
      },
      "source": [
        "* You'll notice that Python is less cluttered and much more readable than other languages like C or Java. How does Python manage this?\n",
        "\n",
        "\n",
        "* The statement is ended with a colon, and whitespace(tab) is used (indentation) to describe what takes place in case of the statement.\n",
        "\n",
        "\n",
        "* Another major difference is the lack of semicolons in Python. \n",
        "\n",
        "\n",
        "* Semicolons are used to denote statement endings in many other languages, but in Python, **the end of a line is the same as the end of a statement.**\n",
        "\n",
        "\n",
        "* Lastly, to end this brief overview of differences, let's take a closer look at indentation syntax in Python vs other languages:"
      ]
    },
    {
      "cell_type": "markdown",
      "metadata": {
        "id": "1tDQg0B1Hnog"
      },
      "source": [
        "# <u> Conditional Statements </u>\n",
        "\n",
        "In Python, condition statements act depending on whether a given condition is true or false. You can execute different blocks of codes depending on the outcome of a condition. Condition statements always evaluate to either True or False.\n",
        "\n",
        "There are three types of conditional statements.\n",
        "\n",
        "1. if statement\n",
        "2. if-else\n",
        "3. if-elif-else\n",
        "4. nested if-else\n",
        "\n",
        "<hr>\n",
        "\n",
        "<code>if</code> Statements in Python allows us to tell the computer to perform alternative actions based on a certain set of results.\n",
        "\n",
        "![image.png](data:image/png;base64,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)\n",
        "\n",
        "Verbally, we can imagine we are telling the computer: \"Hey if this case happens, perform some action\"\n",
        "\n",
        "\n",
        "We can then expand the idea further with <code>elif</code> and <code>else</code> statements, which allow us to tell the computer: \"Hey if this case happens, perform some action. Else, if another case happens, perform some other action. Else, if *none* of the above cases happened, perform this action.\"\n",
        "\n",
        "![image.png](data:image/png;base64,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)\n",
        "\n",
        "![image.png](data:image/png;base64,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)\n",
        "\n",
        "Let's go ahead and look at the syntax format for <code>if</code> statements to get a better idea of this:\n",
        "\n",
        "    if case1:\n",
        "        perform action1\n",
        "    elif case2:\n",
        "        perform action2\n",
        "    else: \n",
        "        perform action3\n",
        "\n",
        "\n"
      ]
    },
    {
      "cell_type": "code",
      "metadata": {
        "id": "9HTiofEDoOR6",
        "colab": {
          "base_uri": "https://localhost:8080/",
          "height": 130
        },
        "outputId": "a81af9f4-fedc-4609-ae69-3b3745ae329f"
      },
      "source": [
        "if case1 :\n",
        "  # do some action \n",
        " elif case 5 : ## Invalid Indentation ##\n",
        "    # another action\n",
        "elif case2 :\n",
        "  # do some another action\n",
        "else:\n",
        "  # do some yet another action"
      ],
      "execution_count": 55,
      "outputs": [
        {
          "output_type": "error",
          "ename": "SyntaxError",
          "evalue": "ignored",
          "traceback": [
            "\u001b[0;36m  File \u001b[0;32m\"<ipython-input-55-77b95ec8b128>\"\u001b[0;36m, line \u001b[0;32m3\u001b[0m\n\u001b[0;31m    elif case 5 :\u001b[0m\n\u001b[0m       ^\u001b[0m\n\u001b[0;31mSyntaxError\u001b[0m\u001b[0;31m:\u001b[0m invalid syntax\n"
          ]
        }
      ]
    },
    {
      "cell_type": "code",
      "source": [
        "a = 2\n",
        "b = 5\n",
        "if a>b:\n",
        "    print('true')\n",
        "else :\n",
        "    print('false')"
      ],
      "metadata": {
        "colab": {
          "base_uri": "https://localhost:8080/"
        },
        "id": "OfGDjTq52CzI",
        "outputId": "d23532f1-f720-4741-8b8a-d33a6b90614f"
      },
      "execution_count": 56,
      "outputs": [
        {
          "output_type": "stream",
          "name": "stdout",
          "text": [
            "false\n"
          ]
        }
      ]
    },
    {
      "cell_type": "code",
      "source": [
        "# tax calculation code -> for old tax regime\n",
        "salary = 15000\n",
        "tax = 0\n",
        "\n",
        "## Calculate the tax\n",
        "if salary < 1000: # no tax\n",
        "    print(\"cat 1\")\n",
        "elif salary < 5000: # 10% tax \n",
        "    print(\"cat 2\")\n",
        "elif salary < 8000: # 20% tax\n",
        "    print(\"cat 3\")\n",
        "elif salary < 10000: # 30% tax\n",
        "    print(\"cat 4\")\n",
        "else:\n",
        "    print(\"salary not in range\")\n",
        "\n",
        "print(salary, tax)"
      ],
      "metadata": {
        "colab": {
          "base_uri": "https://localhost:8080/"
        },
        "id": "IjarH3vy2re9",
        "outputId": "d16d68db-2bac-4f25-aaad-2d44f81f7a59"
      },
      "execution_count": 57,
      "outputs": [
        {
          "output_type": "stream",
          "name": "stdout",
          "text": [
            "salary not in range\n",
            "15000 0\n"
          ]
        }
      ]
    },
    {
      "cell_type": "code",
      "source": [
        "salary < 5000"
      ],
      "metadata": {
        "colab": {
          "base_uri": "https://localhost:8080/"
        },
        "id": "jsnUbxpd4RWJ",
        "outputId": "a98b90a3-2818-420c-8d53-2ae0e53f55e0"
      },
      "execution_count": 58,
      "outputs": [
        {
          "output_type": "execute_result",
          "data": {
            "text/plain": [
              "False"
            ]
          },
          "metadata": {},
          "execution_count": 58
        }
      ]
    },
    {
      "cell_type": "code",
      "metadata": {
        "id": "bFe8-H-oHnoh"
      },
      "source": [
        "# Statement 1 - Assignment statement\n",
        "x=20 \n",
        "\n",
        "# If Statement\n",
        "if x == 30 :\n",
        "  print('x is greater than 10!')\n",
        "  print(f'x is {x}')"
      ],
      "execution_count": 59,
      "outputs": []
    },
    {
      "cell_type": "markdown",
      "metadata": {
        "id": "RI18dXE4Hnok"
      },
      "source": [
        "* <code>if</code> statement evaluates the True condition"
      ]
    },
    {
      "cell_type": "code",
      "metadata": {
        "id": "0c6qcOShq1AI",
        "colab": {
          "base_uri": "https://localhost:8080/"
        },
        "outputId": "c1a74e68-a2c0-4657-ade4-9b6b858a7564"
      },
      "source": [
        "x == 20"
      ],
      "execution_count": 60,
      "outputs": [
        {
          "output_type": "execute_result",
          "data": {
            "text/plain": [
              "True"
            ]
          },
          "metadata": {},
          "execution_count": 60
        }
      ]
    },
    {
      "cell_type": "code",
      "metadata": {
        "id": "n2L2kPAkHnol",
        "colab": {
          "base_uri": "https://localhost:8080/"
        },
        "outputId": "15867ae2-ff2b-4e06-9554-140fb7b47145"
      },
      "source": [
        "if True:\n",
        "  print('It was true!')"
      ],
      "execution_count": 61,
      "outputs": [
        {
          "output_type": "stream",
          "name": "stdout",
          "text": [
            "It was true!\n"
          ]
        }
      ]
    },
    {
      "cell_type": "code",
      "metadata": {
        "id": "qvVhD8tYHnon"
      },
      "source": [
        "if False:\n",
        "  print('It was true!')"
      ],
      "execution_count": 62,
      "outputs": []
    },
    {
      "cell_type": "markdown",
      "metadata": {
        "id": "ofrPBG8ZHnop"
      },
      "source": [
        "Let's add in some else logic:"
      ]
    },
    {
      "cell_type": "code",
      "metadata": {
        "id": "EF7AiLkrHnoq",
        "colab": {
          "base_uri": "https://localhost:8080/"
        },
        "outputId": "5749bc01-aa19-408c-dc9e-e85e6dc2cfba"
      },
      "source": [
        "x = False\n",
        "y = False\n",
        "\n",
        "if (x | y):\n",
        "  print('y was True!')\n",
        "else:\n",
        "  print('I will be printed in any case where x is not true')"
      ],
      "execution_count": 63,
      "outputs": [
        {
          "output_type": "stream",
          "name": "stdout",
          "text": [
            "I will be printed in any case where x is not true\n"
          ]
        }
      ]
    },
    {
      "cell_type": "code",
      "source": [
        "type(x)"
      ],
      "metadata": {
        "colab": {
          "base_uri": "https://localhost:8080/"
        },
        "id": "8kaBCdhr4ymI",
        "outputId": "aa30df4c-97fe-4199-da39-d66639e1d4ff"
      },
      "execution_count": 64,
      "outputs": [
        {
          "output_type": "execute_result",
          "data": {
            "text/plain": [
              "bool"
            ]
          },
          "metadata": {},
          "execution_count": 64
        }
      ]
    },
    {
      "cell_type": "markdown",
      "metadata": {
        "id": "lEGoq9pjHnos"
      },
      "source": [
        "* Let's get a fuller picture of how far <code>if</code>, <code>elif</code>, and <code>else</code> can take us!\n",
        "\n",
        "\n",
        "* We write this out in a nested structure. Take note of how the <code>if</code>, <code>elif</code>, and <code>else</code> line up in the code. This can help you see what <code>if</code> is related to what <code>elif</code> or <code>else</code> statements."
      ]
    },
    {
      "cell_type": "code",
      "metadata": {
        "id": "DbV35ChhHnot",
        "colab": {
          "base_uri": "https://localhost:8080/"
        },
        "outputId": "273299c3-80dc-4793-ce68-98fbd7167f52"
      },
      "source": [
        "city = 'New Delhi'\n",
        "\n",
        "if city == 'New Delhi':\n",
        "  print('Welcome to the Indian Capital')\n",
        "elif city == 'Mumbai':\n",
        "  print('Welcome to the Financial Capital of India!')\n",
        "else:\n",
        "  print('Where are you?')"
      ],
      "execution_count": 65,
      "outputs": [
        {
          "output_type": "stream",
          "name": "stdout",
          "text": [
            "Welcome to the Indian Capital\n"
          ]
        }
      ]
    },
    {
      "cell_type": "markdown",
      "metadata": {
        "id": "Crk-mLkYHnow"
      },
      "source": [
        "* Note how the nested <code>if</code> statements are each checked until a True boolean causes the nested code below it to run. You should also note that you can put in as many <code>elif</code> statements as you want before you close off with an <code>else</code>.\n",
        "\n",
        "\n",
        "* Let's create two more simple examples for the <code>if</code>, <code>elif</code>, and <code>else</code> statements:"
      ]
    },
    {
      "cell_type": "code",
      "metadata": {
        "id": "gclDFcteHnow",
        "colab": {
          "base_uri": "https://localhost:8080/"
        },
        "outputId": "e33552ae-efdc-45e7-ce45-c71d791d2999"
      },
      "source": [
        "person = 'Johnny'\n",
        "\n",
        "if person == 'John':\n",
        "    print(f'Welcome {person}!')\n",
        "else:\n",
        "    print(\"Welcome, what's your name?\")"
      ],
      "execution_count": 66,
      "outputs": [
        {
          "output_type": "stream",
          "name": "stdout",
          "text": [
            "Welcome, what's your name?\n"
          ]
        }
      ]
    },
    {
      "cell_type": "code",
      "metadata": {
        "id": "b3kcCb1oHnoz",
        "colab": {
          "base_uri": "https://localhost:8080/"
        },
        "outputId": "4f3df8b4-805f-48ba-bf6b-00344437887a"
      },
      "source": [
        "number1 = -2\n",
        "number2 = 9\n",
        "\n",
        "if number1 > 0:\n",
        "  if number2 < 10 :\n",
        "    print(number2 + number1)\n",
        "  else:\n",
        "    print(\"Should be greater than 10\")\n",
        "\n",
        "elif number1 < 0:\n",
        "    print(\"Ah, that's a negative number\")\n",
        "else:\n",
        "    print(\"The number is zero!\")"
      ],
      "execution_count": 67,
      "outputs": [
        {
          "output_type": "stream",
          "name": "stdout",
          "text": [
            "Ah, that's a negative number\n"
          ]
        }
      ]
    },
    {
      "cell_type": "markdown",
      "metadata": {
        "id": "2NN-koY-6af9"
      },
      "source": [
        "### <u>Truthy & Falsy</u>\n",
        "\n",
        "A \"truthy\" value will satisfy the check performed by if or while statements. We use \"truthy\" and \"falsy\" to differentiate from the boolean values True and False."
      ]
    },
    {
      "cell_type": "markdown",
      "metadata": {
        "id": "iAhlDVWQ61kr"
      },
      "source": [
        "All values are considered \"truthy\" except for the following, which are \"falsy\":\n",
        "\n",
        "* <code>None</code>\n",
        "* <code>False</code>\n",
        "* <code>0</code>\n",
        "* <code>0.0</code>\n",
        "* <code>[]</code> - an empty <code>list</code>\n",
        "* <code>{}</code> - an empty <code>dict</code>\n",
        "* <code>()</code> - an empty <code>tuple</code>\n",
        "* <code>''</code> - an empty <code>str</code>"
      ]
    },
    {
      "cell_type": "code",
      "metadata": {
        "id": "TsUz73an6dQy",
        "colab": {
          "base_uri": "https://localhost:8080/"
        },
        "outputId": "5ffee064-2057-46e4-b6f2-a66f8f84fa2f"
      },
      "source": [
        "# Consider the following statement\n",
        "if False:\n",
        "  print(\"What do you say?\")\n",
        "else:\n",
        "  print(\"I have nothing to say\")"
      ],
      "execution_count": 68,
      "outputs": [
        {
          "output_type": "stream",
          "name": "stdout",
          "text": [
            "I have nothing to say\n"
          ]
        }
      ]
    },
    {
      "cell_type": "code",
      "source": [
        "today_date = 31\n",
        "if today_date:\n",
        "    print(\"today date\", today_date)"
      ],
      "metadata": {
        "colab": {
          "base_uri": "https://localhost:8080/"
        },
        "id": "kp4hESHm863W",
        "outputId": "2b0b0166-c30e-4153-e207-7adfbe936135"
      },
      "execution_count": 69,
      "outputs": [
        {
          "output_type": "stream",
          "name": "stdout",
          "text": [
            "today date 31\n"
          ]
        }
      ]
    },
    {
      "cell_type": "code",
      "source": [
        "~3"
      ],
      "metadata": {
        "id": "ougMOuHr-bWv",
        "outputId": "5048f38f-0cd0-45ff-e21f-4d474b82327a",
        "colab": {
          "base_uri": "https://localhost:8080/"
        }
      },
      "execution_count": 70,
      "outputs": [
        {
          "output_type": "execute_result",
          "data": {
            "text/plain": [
              "-4"
            ]
          },
          "metadata": {},
          "execution_count": 70
        }
      ]
    },
    {
      "cell_type": "code",
      "source": [
        "today_date = ~1\n",
        "if today_date:\n",
        "    print(\"today date\", today_date)"
      ],
      "metadata": {
        "colab": {
          "base_uri": "https://localhost:8080/"
        },
        "id": "6_tV5dT588D6",
        "outputId": "02c91cfa-345b-4e47-a5f3-9a5cce98abda"
      },
      "execution_count": 71,
      "outputs": [
        {
          "output_type": "stream",
          "name": "stdout",
          "text": [
            "today date -2\n"
          ]
        }
      ]
    },
    {
      "cell_type": "code",
      "metadata": {
        "id": "3eaS1zDP7tN3",
        "colab": {
          "base_uri": "https://localhost:8080/"
        },
        "outputId": "79030f65-0af3-4674-a50b-62c46c423c7b"
      },
      "source": [
        "if [None]:\n",
        "  print(\"Well I had a really bad day!\")\n",
        "else:\n",
        "  print(\"Come on you aced your test.\")"
      ],
      "execution_count": 72,
      "outputs": [
        {
          "output_type": "stream",
          "name": "stdout",
          "text": [
            "Well I had a really bad day!\n"
          ]
        }
      ]
    },
    {
      "cell_type": "code",
      "metadata": {
        "id": "2kWdK2bt758j",
        "colab": {
          "base_uri": "https://localhost:8080/"
        },
        "outputId": "9169c29c-3f95-4612-e790-fd0f14349397"
      },
      "source": [
        "if {1:2,3:4}:\n",
        "  print(\"This is True\")\n",
        "else:\n",
        "  print(\"This is False\")"
      ],
      "execution_count": 73,
      "outputs": [
        {
          "output_type": "stream",
          "name": "stdout",
          "text": [
            "This is True\n"
          ]
        }
      ]
    },
    {
      "cell_type": "markdown",
      "source": [
        "# <u> Import Statement </u>"
      ],
      "metadata": {
        "id": "nUAWnCaJdmXq"
      }
    },
    {
      "cell_type": "markdown",
      "source": [
        "The import statement is used to import modules. We can also import individual classes from a module.\n",
        "\n",
        "Python has a huge list of built-in modules which we can use in our code. For example, we can use the built-in module DateTime to work with date and time."
      ],
      "metadata": {
        "id": "sBmylGgcdsJl"
      }
    },
    {
      "cell_type": "code",
      "source": [
        "import datetime\n",
        "\n",
        "now = datetime.datetime.now()\n",
        "\n",
        "print(now)"
      ],
      "metadata": {
        "colab": {
          "base_uri": "https://localhost:8080/"
        },
        "id": "7pm23xDidmy_",
        "outputId": "97922e06-0760-4402-ca93-39e0a56cf4dc"
      },
      "execution_count": 74,
      "outputs": [
        {
          "output_type": "stream",
          "name": "stdout",
          "text": [
            "2022-02-02 09:29:01.039752\n"
          ]
        }
      ]
    }
  ]
}